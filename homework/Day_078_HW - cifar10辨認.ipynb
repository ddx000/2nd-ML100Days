{
 "cells": [
  {
   "cell_type": "markdown",
   "metadata": {},
   "source": [
    "## Work - 使用深度學習進行cifar10辨認\n",
    "1. 請嘗試將 preproc_x 替換成以每筆資料的 min/max 進行標準化至 -1 ~ 1 間，再進行訓練\n",
    "2. 請嘗試將 mlp 疊更深 (e.g 5~10 層)，進行訓練後觀察 learning curve 的走勢\n",
    "3. (optional) 請改用 GPU 進行訓練 (如果你有 GPU 的話)，比較使用 CPU 與 GPU 的訓練速度"
   ]
  },
  {
   "cell_type": "code",
   "execution_count": 30,
   "metadata": {
    "ExecuteTime": {
     "end_time": "2020-01-11T03:30:46.346840Z",
     "start_time": "2020-01-11T03:30:46.173337Z"
    }
   },
   "outputs": [],
   "source": [
    "import os\n",
    "import keras\n",
    "from keras.datasets import mnist \n",
    "from keras.preprocessing.image import ImageDataGenerator\n",
    "from keras.models import Sequential, load_model\n",
    "from keras.layers import Dense, Dropout, Activation, Flatten\n",
    "from keras.layers import Conv2D, MaxPooling2D\n",
    "from keras import optimizers\n",
    "from keras.callbacks import EarlyStopping, ModelCheckpoint\n",
    "import numpy \n",
    "\n",
    "os.environ[\"CUDA_VISIBLE_DEVICES\"] = \"0\"\n",
    "\n",
    "(x_train, y_train), (x_test, y_test) = keras.datasets.cifar10.load_data()"
   ]
  },
  {
   "cell_type": "code",
   "execution_count": null,
   "metadata": {},
   "outputs": [],
   "source": [
    "#包含 6 萬筆 32*32 低解析度之彩色圖片"
   ]
  },
  {
   "cell_type": "code",
   "execution_count": 19,
   "metadata": {
    "ExecuteTime": {
     "end_time": "2020-01-11T03:11:24.865821Z",
     "start_time": "2020-01-11T03:11:24.760081Z"
    }
   },
   "outputs": [
    {
     "data": {
      "text/plain": [
       "<matplotlib.image.AxesImage at 0x27600194198>"
      ]
     },
     "execution_count": 19,
     "metadata": {},
     "output_type": "execute_result"
    },
    {
     "data": {
      "image/png": "[encoded data removed]",
      "text/plain": [
       "<Figure size 432x288 with 1 Axes>"
      ]
     },
     "metadata": {
      "needs_background": "dark"
     },
     "output_type": "display_data"
    }
   ],
   "source": [
    "plt.imshow(x_train[0])"
   ]
  },
  {
   "cell_type": "code",
   "execution_count": 36,
   "metadata": {
    "ExecuteTime": {
     "end_time": "2020-01-11T03:32:16.878692Z",
     "start_time": "2020-01-11T03:32:15.835450Z"
    }
   },
   "outputs": [],
   "source": [
    "## 資料前處理\n",
    "def preproc_x(x, flatten=True):\n",
    "    x = x / 255.\n",
    "    if flatten:\n",
    "        x = x.reshape((len(x), -1))\n",
    "    return x\n",
    "\n",
    "def preproc_y(y, num_classes=10):\n",
    "    if y.shape[-1] == 1:\n",
    "        y = keras.utils.to_categorical(y, num_classes)\n",
    "    return y    \n",
    "\n",
    "\n",
    "# Preproc the inputs\n",
    "x_train = preproc_x(x_train)\n",
    "x_test = preproc_x(x_test)\n",
    "\n",
    "# Preprc the outputs\n",
    "y_train = preproc_y(y_train)\n",
    "y_test = preproc_y(y_test)"
   ]
  },
  {
   "cell_type": "code",
   "execution_count": 37,
   "metadata": {
    "ExecuteTime": {
     "end_time": "2020-01-11T03:32:17.172172Z",
     "start_time": "2020-01-11T03:32:17.167208Z"
    }
   },
   "outputs": [
    {
     "data": {
      "text/plain": [
       "(3072,)"
      ]
     },
     "execution_count": 37,
     "metadata": {},
     "output_type": "execute_result"
    }
   ],
   "source": [
    "x_train.shape[1:]"
   ]
  },
  {
   "cell_type": "code",
   "execution_count": 42,
   "metadata": {
    "ExecuteTime": {
     "end_time": "2020-01-11T03:32:56.483870Z",
     "start_time": "2020-01-11T03:32:56.428891Z"
    }
   },
   "outputs": [],
   "source": [
    "model = Sequential()\n",
    "model.add(Dense(512,activation=\"relu\",input_shape=(x_train.shape[1:])))\n",
    "model.add(Dense(256,activation=\"relu\"))\n",
    "model.add(Dense(128,activation=\"relu\"))\n",
    "model.add(Dense(64,activation=\"relu\"))\n",
    "model.add(Dense(10,activation=\"softmax\", name=\"output\"))"
   ]
  },
  {
   "cell_type": "code",
   "execution_count": 43,
   "metadata": {
    "ExecuteTime": {
     "end_time": "2020-01-11T03:32:57.038438Z",
     "start_time": "2020-01-11T03:32:57.035422Z"
    }
   },
   "outputs": [
    {
     "name": "stdout",
     "output_type": "stream",
     "text": [
      "Model: \"sequential_7\"\n",
      "_________________________________________________________________\n",
      "Layer (type)                 Output Shape              Param #   \n",
      "=================================================================\n",
      "dense_14 (Dense)             (None, 512)               1573376   \n",
      "_________________________________________________________________\n",
      "dense_15 (Dense)             (None, 256)               131328    \n",
      "_________________________________________________________________\n",
      "dense_16 (Dense)             (None, 128)               32896     \n",
      "_________________________________________________________________\n",
      "dense_17 (Dense)             (None, 64)                8256      \n",
      "_________________________________________________________________\n",
      "output (Dense)               (None, 10)                650       \n",
      "=================================================================\n",
      "Total params: 1,746,506\n",
      "Trainable params: 1,746,506\n",
      "Non-trainable params: 0\n",
      "_________________________________________________________________\n"
     ]
    }
   ],
   "source": [
    "model.summary()"
   ]
  },
  {
   "cell_type": "code",
   "execution_count": 8,
   "metadata": {},
   "outputs": [],
   "source": [
    "# def build_mlp(input_shape, output_units=10, num_neurons=[512, 256, 128]):\n",
    "#     input_layer = keras.layers.Input(input_shape)\n",
    "    \n",
    "#     for i, n_units in enumerate(num_neurons):\n",
    "#         if i == 0:\n",
    "#             x = keras.layers.Dense(units=n_units, activation=\"relu\", name=\"hidden_layer\"+str(i+1))(input_layer)\n",
    "#         else:\n",
    "#             x = keras.layers.Dense(units=n_units, activation=\"relu\", name=\"hidden_layer\"+str(i+1))(x)\n",
    "    \n",
    "#     out = keras.layers.Dense(units=output_units, activation=\"softmax\", name=\"output\")(x)\n",
    "    \n",
    "#     model = keras.models.Model(inputs=[input_layer], outputs=[out])\n",
    "#     return model\n",
    "# model = build_mlp(input_shape=x_train.shape[1:])"
   ]
  },
  {
   "cell_type": "code",
   "execution_count": 9,
   "metadata": {},
   "outputs": [
    {
     "name": "stderr",
     "output_type": "stream",
     "text": [
      "WARNING: Logging before flag parsing goes to stderr.\n",
      "W0712 01:49:17.188389   856 deprecation_wrapper.py:119] From C:\\ProgramData\\Anaconda3\\lib\\site-packages\\keras\\backend\\tensorflow_backend.py:74: The name tf.get_default_graph is deprecated. Please use tf.compat.v1.get_default_graph instead.\n",
      "\n",
      "W0712 01:49:17.236392   856 deprecation_wrapper.py:119] From C:\\ProgramData\\Anaconda3\\lib\\site-packages\\keras\\backend\\tensorflow_backend.py:517: The name tf.placeholder is deprecated. Please use tf.compat.v1.placeholder instead.\n",
      "\n",
      "W0712 01:49:17.246392   856 deprecation_wrapper.py:119] From C:\\ProgramData\\Anaconda3\\lib\\site-packages\\keras\\backend\\tensorflow_backend.py:4138: The name tf.random_uniform is deprecated. Please use tf.random.uniform instead.\n",
      "\n"
     ]
    },
    {
     "name": "stdout",
     "output_type": "stream",
     "text": [
      "_________________________________________________________________\n",
      "Layer (type)                 Output Shape              Param #   \n",
      "=================================================================\n",
      "input_1 (InputLayer)         (None, 3072)              0         \n",
      "_________________________________________________________________\n",
      "hidden_layer1 (Dense)        (None, 512)               1573376   \n",
      "_________________________________________________________________\n",
      "hidden_layer2 (Dense)        (None, 256)               131328    \n",
      "_________________________________________________________________\n",
      "hidden_layer3 (Dense)        (None, 128)               32896     \n",
      "_________________________________________________________________\n",
      "output (Dense)               (None, 10)                1290      \n",
      "=================================================================\n",
      "Total params: 1,738,890\n",
      "Trainable params: 1,738,890\n",
      "Non-trainable params: 0\n",
      "_________________________________________________________________\n"
     ]
    }
   ],
   "source": [
    "\n",
    "model.summary()"
   ]
  },
  {
   "cell_type": "code",
   "execution_count": 44,
   "metadata": {
    "ExecuteTime": {
     "end_time": "2020-01-11T03:33:17.730755Z",
     "start_time": "2020-01-11T03:33:17.727741Z"
    }
   },
   "outputs": [],
   "source": [
    "## 超參數設定\n",
    "LEARNING_RATE = 0.001\n",
    "EPOCHS = 100\n",
    "BATCH_SIZE = 256"
   ]
  },
  {
   "cell_type": "code",
   "execution_count": 45,
   "metadata": {
    "ExecuteTime": {
     "end_time": "2020-01-11T03:33:18.534646Z",
     "start_time": "2020-01-11T03:33:18.470709Z"
    }
   },
   "outputs": [],
   "source": [
    "optimizer = keras.optimizers.Adam(lr=LEARNING_RATE)\n",
    "model.compile(loss=\"categorical_crossentropy\", metrics=[\"accuracy\"], optimizer=optimizer)"
   ]
  },
  {
   "cell_type": "code",
   "execution_count": 46,
   "metadata": {
    "ExecuteTime": {
     "end_time": "2020-01-11T03:36:50.593970Z",
     "start_time": "2020-01-11T03:33:22.728587Z"
    }
   },
   "outputs": [
    {
     "name": "stdout",
     "output_type": "stream",
     "text": [
      "WARNING:tensorflow:From C:\\Users\\ddx00\\AppData\\Local\\Continuum\\anaconda3\\lib\\site-packages\\keras\\backend\\tensorflow_backend.py:422: The name tf.global_variables is deprecated. Please use tf.compat.v1.global_variables instead.\n",
      "\n",
      "Train on 50000 samples, validate on 10000 samples\n",
      "Epoch 1/100\n",
      "50000/50000 [==============================] - 3s 55us/step - loss: 1.9397 - accuracy: 0.2896 - val_loss: 1.7940 - val_accuracy: 0.3571\n",
      "Epoch 2/100\n",
      "50000/50000 [==============================] - 2s 41us/step - loss: 1.7187 - accuracy: 0.3823 - val_loss: 1.6606 - val_accuracy: 0.4023\n",
      "Epoch 3/100\n",
      "50000/50000 [==============================] - 2s 41us/step - loss: 1.6324 - accuracy: 0.4146 - val_loss: 1.6151 - val_accuracy: 0.4176\n",
      "Epoch 4/100\n",
      "50000/50000 [==============================] - 2s 41us/step - loss: 1.5660 - accuracy: 0.4408 - val_loss: 1.5835 - val_accuracy: 0.4436\n",
      "Epoch 5/100\n",
      "50000/50000 [==============================] - 2s 42us/step - loss: 1.5219 - accuracy: 0.4578 - val_loss: 1.5223 - val_accuracy: 0.4575\n",
      "Epoch 6/100\n",
      "50000/50000 [==============================] - 2s 41us/step - loss: 1.4919 - accuracy: 0.4657 - val_loss: 1.5167 - val_accuracy: 0.4585\n",
      "Epoch 7/100\n",
      "50000/50000 [==============================] - 2s 41us/step - loss: 1.4549 - accuracy: 0.4798 - val_loss: 1.4793 - val_accuracy: 0.4706\n",
      "Epoch 8/100\n",
      "50000/50000 [==============================] - 2s 41us/step - loss: 1.4248 - accuracy: 0.4933 - val_loss: 1.4444 - val_accuracy: 0.4913\n",
      "Epoch 9/100\n",
      "50000/50000 [==============================] - 2s 41us/step - loss: 1.3929 - accuracy: 0.5042 - val_loss: 1.4304 - val_accuracy: 0.4952\n",
      "Epoch 10/100\n",
      "50000/50000 [==============================] - 2s 41us/step - loss: 1.3746 - accuracy: 0.5119 - val_loss: 1.4324 - val_accuracy: 0.4950\n",
      "Epoch 11/100\n",
      "50000/50000 [==============================] - 2s 43us/step - loss: 1.3360 - accuracy: 0.5260 - val_loss: 1.4239 - val_accuracy: 0.4989\n",
      "Epoch 12/100\n",
      "50000/50000 [==============================] - 2s 45us/step - loss: 1.3166 - accuracy: 0.5297 - val_loss: 1.4201 - val_accuracy: 0.4987\n",
      "Epoch 13/100\n",
      "50000/50000 [==============================] - 2s 43us/step - loss: 1.2949 - accuracy: 0.5375 - val_loss: 1.4263 - val_accuracy: 0.5039\n",
      "Epoch 14/100\n",
      "50000/50000 [==============================] - 2s 43us/step - loss: 1.2734 - accuracy: 0.5458 - val_loss: 1.3847 - val_accuracy: 0.5115\n",
      "Epoch 15/100\n",
      "50000/50000 [==============================] - 2s 46us/step - loss: 1.2520 - accuracy: 0.5536 - val_loss: 1.4053 - val_accuracy: 0.5031\n",
      "Epoch 16/100\n",
      "50000/50000 [==============================] - 2s 44us/step - loss: 1.2335 - accuracy: 0.5597 - val_loss: 1.3782 - val_accuracy: 0.5124\n",
      "Epoch 17/100\n",
      "50000/50000 [==============================] - 2s 43us/step - loss: 1.2084 - accuracy: 0.5700 - val_loss: 1.3677 - val_accuracy: 0.5165\n",
      "Epoch 18/100\n",
      "50000/50000 [==============================] - 2s 43us/step - loss: 1.1860 - accuracy: 0.5774 - val_loss: 1.3601 - val_accuracy: 0.5239\n",
      "Epoch 19/100\n",
      "50000/50000 [==============================] - 2s 42us/step - loss: 1.1611 - accuracy: 0.5878 - val_loss: 1.4051 - val_accuracy: 0.5142\n",
      "Epoch 20/100\n",
      "50000/50000 [==============================] - 2s 41us/step - loss: 1.1459 - accuracy: 0.5917 - val_loss: 1.3655 - val_accuracy: 0.5219\n",
      "Epoch 21/100\n",
      "50000/50000 [==============================] - 2s 41us/step - loss: 1.1182 - accuracy: 0.6001 - val_loss: 1.3621 - val_accuracy: 0.5223\n",
      "Epoch 22/100\n",
      "50000/50000 [==============================] - 2s 41us/step - loss: 1.1081 - accuracy: 0.6029 - val_loss: 1.3682 - val_accuracy: 0.5304\n",
      "Epoch 23/100\n",
      "50000/50000 [==============================] - 2s 40us/step - loss: 1.0903 - accuracy: 0.6112 - val_loss: 1.4643 - val_accuracy: 0.5130\n",
      "Epoch 24/100\n",
      "50000/50000 [==============================] - 2s 40us/step - loss: 1.0783 - accuracy: 0.6146 - val_loss: 1.3939 - val_accuracy: 0.5274\n",
      "Epoch 25/100\n",
      "50000/50000 [==============================] - 2s 40us/step - loss: 1.0533 - accuracy: 0.6253 - val_loss: 1.3816 - val_accuracy: 0.5245\n",
      "Epoch 26/100\n",
      "50000/50000 [==============================] - 2s 40us/step - loss: 1.0262 - accuracy: 0.6358 - val_loss: 1.4120 - val_accuracy: 0.5204\n",
      "Epoch 27/100\n",
      "50000/50000 [==============================] - 2s 40us/step - loss: 1.0112 - accuracy: 0.6398 - val_loss: 1.3803 - val_accuracy: 0.5286\n",
      "Epoch 28/100\n",
      "50000/50000 [==============================] - 2s 40us/step - loss: 0.9893 - accuracy: 0.6456 - val_loss: 1.4385 - val_accuracy: 0.5253\n",
      "Epoch 29/100\n",
      "50000/50000 [==============================] - 2s 40us/step - loss: 0.9860 - accuracy: 0.6489 - val_loss: 1.4293 - val_accuracy: 0.5221\n",
      "Epoch 30/100\n",
      "50000/50000 [==============================] - 2s 41us/step - loss: 0.9559 - accuracy: 0.6589 - val_loss: 1.4413 - val_accuracy: 0.5186\n",
      "Epoch 31/100\n",
      "50000/50000 [==============================] - 2s 40us/step - loss: 0.9616 - accuracy: 0.6541 - val_loss: 1.4371 - val_accuracy: 0.5225\n",
      "Epoch 32/100\n",
      "50000/50000 [==============================] - 2s 40us/step - loss: 0.9260 - accuracy: 0.6693 - val_loss: 1.4560 - val_accuracy: 0.5248\n",
      "Epoch 33/100\n",
      "50000/50000 [==============================] - 2s 40us/step - loss: 0.9021 - accuracy: 0.6786 - val_loss: 1.4968 - val_accuracy: 0.5204\n",
      "Epoch 34/100\n",
      "50000/50000 [==============================] - 2s 40us/step - loss: 0.8920 - accuracy: 0.6812 - val_loss: 1.4891 - val_accuracy: 0.5241\n",
      "Epoch 35/100\n",
      "50000/50000 [==============================] - 2s 40us/step - loss: 0.8809 - accuracy: 0.6840 - val_loss: 1.4873 - val_accuracy: 0.5223\n",
      "Epoch 36/100\n",
      "50000/50000 [==============================] - 2s 41us/step - loss: 0.8553 - accuracy: 0.6942 - val_loss: 1.4668 - val_accuracy: 0.5320\n",
      "Epoch 37/100\n",
      "50000/50000 [==============================] - 2s 41us/step - loss: 0.8525 - accuracy: 0.6953 - val_loss: 1.5325 - val_accuracy: 0.5150\n",
      "Epoch 38/100\n",
      "50000/50000 [==============================] - 2s 40us/step - loss: 0.8295 - accuracy: 0.7027 - val_loss: 1.5552 - val_accuracy: 0.5187\n",
      "Epoch 39/100\n",
      "50000/50000 [==============================] - 2s 40us/step - loss: 0.8147 - accuracy: 0.7086 - val_loss: 1.5341 - val_accuracy: 0.5285\n",
      "Epoch 40/100\n",
      "50000/50000 [==============================] - 2s 41us/step - loss: 0.7931 - accuracy: 0.7166 - val_loss: 1.5947 - val_accuracy: 0.5212\n",
      "Epoch 41/100\n",
      "50000/50000 [==============================] - 2s 41us/step - loss: 0.7873 - accuracy: 0.7203 - val_loss: 1.5958 - val_accuracy: 0.5185\n",
      "Epoch 42/100\n",
      "50000/50000 [==============================] - 2s 40us/step - loss: 0.7651 - accuracy: 0.7267 - val_loss: 1.6282 - val_accuracy: 0.5096\n",
      "Epoch 43/100\n",
      "50000/50000 [==============================] - 2s 40us/step - loss: 0.7471 - accuracy: 0.7336 - val_loss: 1.5976 - val_accuracy: 0.5218\n",
      "Epoch 44/100\n",
      "50000/50000 [==============================] - 2s 42us/step - loss: 0.7493 - accuracy: 0.7327 - val_loss: 1.6555 - val_accuracy: 0.5128\n",
      "Epoch 45/100\n",
      "50000/50000 [==============================] - 2s 43us/step - loss: 0.7248 - accuracy: 0.7421 - val_loss: 1.6541 - val_accuracy: 0.5242\n",
      "Epoch 46/100\n",
      "50000/50000 [==============================] - 2s 40us/step - loss: 0.7083 - accuracy: 0.7465 - val_loss: 1.6819 - val_accuracy: 0.5296\n",
      "Epoch 47/100\n",
      "50000/50000 [==============================] - 2s 42us/step - loss: 0.6981 - accuracy: 0.7501 - val_loss: 1.7102 - val_accuracy: 0.5097\n",
      "Epoch 48/100\n",
      "50000/50000 [==============================] - 2s 43us/step - loss: 0.6839 - accuracy: 0.7554 - val_loss: 1.7165 - val_accuracy: 0.5123\n",
      "Epoch 49/100\n",
      "50000/50000 [==============================] - 2s 42us/step - loss: 0.6594 - accuracy: 0.7643 - val_loss: 1.7767 - val_accuracy: 0.5274\n",
      "Epoch 50/100\n",
      "50000/50000 [==============================] - 2s 41us/step - loss: 0.6511 - accuracy: 0.7671 - val_loss: 1.7766 - val_accuracy: 0.5105\n",
      "Epoch 51/100\n",
      "50000/50000 [==============================] - 2s 40us/step - loss: 0.6428 - accuracy: 0.7694 - val_loss: 1.8814 - val_accuracy: 0.5178\n",
      "Epoch 52/100\n",
      "50000/50000 [==============================] - 2s 39us/step - loss: 0.6342 - accuracy: 0.7723 - val_loss: 1.8067 - val_accuracy: 0.5069\n",
      "Epoch 53/100\n",
      "50000/50000 [==============================] - 2s 39us/step - loss: 0.6202 - accuracy: 0.7799 - val_loss: 1.8863 - val_accuracy: 0.5063\n",
      "Epoch 54/100\n"
     ]
    },
    {
     "name": "stdout",
     "output_type": "stream",
     "text": [
      "50000/50000 [==============================] - 2s 39us/step - loss: 0.6125 - accuracy: 0.7808 - val_loss: 1.8911 - val_accuracy: 0.5120\n",
      "Epoch 55/100\n",
      "50000/50000 [==============================] - 2s 39us/step - loss: 0.6080 - accuracy: 0.7816 - val_loss: 1.9618 - val_accuracy: 0.5113\n",
      "Epoch 56/100\n",
      "50000/50000 [==============================] - 2s 40us/step - loss: 0.5747 - accuracy: 0.7937 - val_loss: 1.9348 - val_accuracy: 0.5176\n",
      "Epoch 57/100\n",
      "50000/50000 [==============================] - 2s 39us/step - loss: 0.5702 - accuracy: 0.7954 - val_loss: 1.9470 - val_accuracy: 0.5105\n",
      "Epoch 58/100\n",
      "50000/50000 [==============================] - 2s 39us/step - loss: 0.5658 - accuracy: 0.7958 - val_loss: 1.9999 - val_accuracy: 0.5102\n",
      "Epoch 59/100\n",
      "50000/50000 [==============================] - 2s 39us/step - loss: 0.5690 - accuracy: 0.7956 - val_loss: 2.0761 - val_accuracy: 0.5082\n",
      "Epoch 60/100\n",
      "50000/50000 [==============================] - 2s 39us/step - loss: 0.5452 - accuracy: 0.8035 - val_loss: 2.0623 - val_accuracy: 0.5072\n",
      "Epoch 61/100\n",
      "50000/50000 [==============================] - 2s 39us/step - loss: 0.5395 - accuracy: 0.8059 - val_loss: 2.0462 - val_accuracy: 0.5097\n",
      "Epoch 62/100\n",
      "50000/50000 [==============================] - 2s 39us/step - loss: 0.5336 - accuracy: 0.8083 - val_loss: 2.0838 - val_accuracy: 0.5123\n",
      "Epoch 63/100\n",
      "50000/50000 [==============================] - 2s 40us/step - loss: 0.5073 - accuracy: 0.8184 - val_loss: 2.1081 - val_accuracy: 0.5181\n",
      "Epoch 64/100\n",
      "50000/50000 [==============================] - 2s 40us/step - loss: 0.5167 - accuracy: 0.8137 - val_loss: 2.1251 - val_accuracy: 0.5066\n",
      "Epoch 65/100\n",
      "50000/50000 [==============================] - 2s 41us/step - loss: 0.4960 - accuracy: 0.8211 - val_loss: 2.2030 - val_accuracy: 0.5149\n",
      "Epoch 66/100\n",
      "50000/50000 [==============================] - 2s 41us/step - loss: 0.4907 - accuracy: 0.8237 - val_loss: 2.2413 - val_accuracy: 0.5158\n",
      "Epoch 67/100\n",
      "50000/50000 [==============================] - 2s 40us/step - loss: 0.4773 - accuracy: 0.8273 - val_loss: 2.2663 - val_accuracy: 0.5145\n",
      "Epoch 68/100\n",
      "50000/50000 [==============================] - 2s 40us/step - loss: 0.4758 - accuracy: 0.8296 - val_loss: 2.3386 - val_accuracy: 0.5132\n",
      "Epoch 69/100\n",
      "50000/50000 [==============================] - 2s 41us/step - loss: 0.4674 - accuracy: 0.8334 - val_loss: 2.2637 - val_accuracy: 0.5100\n",
      "Epoch 70/100\n",
      "50000/50000 [==============================] - 2s 42us/step - loss: 0.4762 - accuracy: 0.8284 - val_loss: 2.3602 - val_accuracy: 0.5156\n",
      "Epoch 71/100\n",
      "50000/50000 [==============================] - 2s 42us/step - loss: 0.4460 - accuracy: 0.8400 - val_loss: 2.4249 - val_accuracy: 0.5163\n",
      "Epoch 72/100\n",
      "50000/50000 [==============================] - 2s 40us/step - loss: 0.4373 - accuracy: 0.8438 - val_loss: 2.3401 - val_accuracy: 0.5149\n",
      "Epoch 73/100\n",
      "50000/50000 [==============================] - 2s 42us/step - loss: 0.4391 - accuracy: 0.8420 - val_loss: 2.4217 - val_accuracy: 0.5072\n",
      "Epoch 74/100\n",
      "50000/50000 [==============================] - 2s 41us/step - loss: 0.4528 - accuracy: 0.8367 - val_loss: 2.4476 - val_accuracy: 0.5058\n",
      "Epoch 75/100\n",
      "50000/50000 [==============================] - 2s 41us/step - loss: 0.4196 - accuracy: 0.8501 - val_loss: 2.4942 - val_accuracy: 0.4983\n",
      "Epoch 76/100\n",
      "50000/50000 [==============================] - 2s 40us/step - loss: 0.4212 - accuracy: 0.8483 - val_loss: 2.5050 - val_accuracy: 0.5127\n",
      "Epoch 77/100\n",
      "50000/50000 [==============================] - 2s 40us/step - loss: 0.3960 - accuracy: 0.8575 - val_loss: 2.5466 - val_accuracy: 0.5078\n",
      "Epoch 78/100\n",
      "50000/50000 [==============================] - 2s 41us/step - loss: 0.4061 - accuracy: 0.8549 - val_loss: 2.5529 - val_accuracy: 0.5102\n",
      "Epoch 79/100\n",
      "50000/50000 [==============================] - 2s 40us/step - loss: 0.4122 - accuracy: 0.8516 - val_loss: 2.5905 - val_accuracy: 0.5017\n",
      "Epoch 80/100\n",
      "50000/50000 [==============================] - 2s 41us/step - loss: 0.3822 - accuracy: 0.8630 - val_loss: 2.6170 - val_accuracy: 0.5055\n",
      "Epoch 81/100\n",
      "50000/50000 [==============================] - 2s 40us/step - loss: 0.3869 - accuracy: 0.8608 - val_loss: 2.6894 - val_accuracy: 0.5120\n",
      "Epoch 82/100\n",
      "50000/50000 [==============================] - 2s 41us/step - loss: 0.3694 - accuracy: 0.8657 - val_loss: 2.6979 - val_accuracy: 0.5064\n",
      "Epoch 83/100\n",
      "50000/50000 [==============================] - 2s 40us/step - loss: 0.3731 - accuracy: 0.8637 - val_loss: 2.7208 - val_accuracy: 0.5059\n",
      "Epoch 84/100\n",
      "50000/50000 [==============================] - 2s 40us/step - loss: 0.3765 - accuracy: 0.8640 - val_loss: 2.7770 - val_accuracy: 0.5078\n",
      "Epoch 85/100\n",
      "50000/50000 [==============================] - 2s 41us/step - loss: 0.3926 - accuracy: 0.8591 - val_loss: 2.8133 - val_accuracy: 0.5039\n",
      "Epoch 86/100\n",
      "50000/50000 [==============================] - 2s 40us/step - loss: 0.3690 - accuracy: 0.8678 - val_loss: 2.7504 - val_accuracy: 0.5175\n",
      "Epoch 87/100\n",
      "50000/50000 [==============================] - 2s 40us/step - loss: 0.3445 - accuracy: 0.8771 - val_loss: 2.8535 - val_accuracy: 0.5133\n",
      "Epoch 88/100\n",
      "50000/50000 [==============================] - 2s 39us/step - loss: 0.3570 - accuracy: 0.8724 - val_loss: 2.8084 - val_accuracy: 0.5088\n",
      "Epoch 89/100\n",
      "50000/50000 [==============================] - 2s 41us/step - loss: 0.3453 - accuracy: 0.8759 - val_loss: 2.9823 - val_accuracy: 0.5026\n",
      "Epoch 90/100\n",
      "50000/50000 [==============================] - 2s 41us/step - loss: 0.3442 - accuracy: 0.8758 - val_loss: 2.9214 - val_accuracy: 0.5052\n",
      "Epoch 91/100\n",
      "50000/50000 [==============================] - 2s 41us/step - loss: 0.3347 - accuracy: 0.8790 - val_loss: 2.9775 - val_accuracy: 0.5137\n",
      "Epoch 92/100\n",
      "50000/50000 [==============================] - 2s 41us/step - loss: 0.3650 - accuracy: 0.8686 - val_loss: 2.8819 - val_accuracy: 0.4931\n",
      "Epoch 93/100\n",
      "50000/50000 [==============================] - 2s 42us/step - loss: 0.3296 - accuracy: 0.8812 - val_loss: 3.0538 - val_accuracy: 0.5080\n",
      "Epoch 94/100\n",
      "50000/50000 [==============================] - 2s 43us/step - loss: 0.3290 - accuracy: 0.8812 - val_loss: 2.9842 - val_accuracy: 0.5070\n",
      "Epoch 95/100\n",
      "50000/50000 [==============================] - 2s 41us/step - loss: 0.3200 - accuracy: 0.8850 - val_loss: 3.0100 - val_accuracy: 0.5060\n",
      "Epoch 96/100\n",
      "50000/50000 [==============================] - 2s 41us/step - loss: 0.3295 - accuracy: 0.8817 - val_loss: 3.0669 - val_accuracy: 0.5071\n",
      "Epoch 97/100\n",
      "50000/50000 [==============================] - 2s 40us/step - loss: 0.3180 - accuracy: 0.8847 - val_loss: 3.1056 - val_accuracy: 0.5012\n",
      "Epoch 98/100\n",
      "50000/50000 [==============================] - 2s 40us/step - loss: 0.2958 - accuracy: 0.8930 - val_loss: 3.1980 - val_accuracy: 0.5105\n",
      "Epoch 99/100\n",
      "50000/50000 [==============================] - 2s 39us/step - loss: 0.3325 - accuracy: 0.8819 - val_loss: 3.1574 - val_accuracy: 0.5020\n",
      "Epoch 100/100\n",
      "50000/50000 [==============================] - 2s 40us/step - loss: 0.3073 - accuracy: 0.8890 - val_loss: 3.1536 - val_accuracy: 0.4995\n"
     ]
    },
    {
     "data": {
      "text/plain": [
       "<keras.callbacks.callbacks.History at 0x27600a61390>"
      ]
     },
     "execution_count": 46,
     "metadata": {},
     "output_type": "execute_result"
    }
   ],
   "source": [
    "model.fit(x_train, y_train, \n",
    "          epochs=EPOCHS, \n",
    "          batch_size=BATCH_SIZE, \n",
    "          validation_data=(x_test, y_test), \n",
    "          shuffle=True)"
   ]
  },
  {
   "cell_type": "code",
   "execution_count": 49,
   "metadata": {
    "ExecuteTime": {
     "end_time": "2020-01-11T03:40:26.470363Z",
     "start_time": "2020-01-11T03:40:26.241950Z"
    }
   },
   "outputs": [
    {
     "data": {
      "image/png": "[encoded data removed]",
      "text/plain": [
       "<Figure size 432x288 with 1 Axes>"
      ]
     },
     "metadata": {
      "needs_background": "dark"
     },
     "output_type": "display_data"
    },
    {
     "data": {
      "image/png": "[encoded data removed]",
      "text/plain": [
       "<Figure size 432x288 with 1 Axes>"
      ]
     },
     "metadata": {
      "needs_background": "dark"
     },
     "output_type": "display_data"
    }
   ],
   "source": [
    "import matplotlib.pyplot as plt\n",
    "\n",
    "\n",
    "train_loss = model.history.history[\"loss\"]\n",
    "valid_loss = model.history.history[\"val_loss\"]\n",
    "\n",
    "train_acc = model.history.history[\"accuracy\"]\n",
    "valid_acc = model.history.history[\"val_accuracy\"]\n",
    "\n",
    "plt.plot(range(len(train_loss)), train_loss, label=\"train loss\")\n",
    "plt.plot(range(len(valid_loss)), valid_loss, label=\"valid loss\")\n",
    "plt.legend()\n",
    "plt.title(\"Loss\")\n",
    "plt.show()\n",
    "\n",
    "plt.plot(range(len(train_acc)), train_acc, label=\"train accuracy\")\n",
    "plt.plot(range(len(valid_acc)), valid_acc, label=\"valid accuracy\")\n",
    "plt.legend()\n",
    "plt.title(\"Accuracy\")\n",
    "plt.show()"
   ]
  },
  {
   "cell_type": "code",
   "execution_count": null,
   "metadata": {},
   "outputs": [],
   "source": []
  }
 ],
 "metadata": {
  "kernelspec": {
   "display_name": "Python 3",
   "language": "python",
   "name": "python3"
  },
  "language_info": {
   "codemirror_mode": {
    "name": "ipython",
    "version": 3
   },
   "file_extension": ".py",
   "mimetype": "text/x-python",
   "name": "python",
   "nbconvert_exporter": "python",
   "pygments_lexer": "ipython3",
   "version": "3.7.3"
  },
  "varInspector": {
   "cols": {
    "lenName": 16,
    "lenType": 16,
    "lenVar": 40
   },
   "kernels_config": {
    "python": {
     "delete_cmd_postfix": "",
     "delete_cmd_prefix": "del ",
     "library": "var_list.py",
     "varRefreshCmd": "print(var_dic_list())"
    },
    "r": {
     "delete_cmd_postfix": ") ",
     "delete_cmd_prefix": "rm(",
     "library": "var_list.r",
     "varRefreshCmd": "cat(var_dic_list()) "
    }
   },
   "position": {
    "height": "144px",
    "left": "911px",
    "right": "20px",
    "top": "120px",
    "width": "350px"
   },
   "types_to_exclude": [
    "module",
    "function",
    "builtin_function_or_method",
    "instance",
    "_Feature"
   ],
   "window_display": false
  }
 },
 "nbformat": 4,
 "nbformat_minor": 2
}
