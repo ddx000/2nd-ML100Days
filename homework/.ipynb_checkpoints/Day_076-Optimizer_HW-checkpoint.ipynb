{
 "cells": [
  {
   "cell_type": "markdown",
   "metadata": {},
   "source": [
    "\n",
    "# 作業: \n",
    "    \n",
    "    (1)以, Adam, 為例, 調整 batch_size, epoch , 觀察accurancy, loss 的變化\n",
    "    \n",
    "    (2)以同一模型, 分別驗證 SGD, Adam, Rmsprop 的 accurancy"
   ]
  },
  {
   "cell_type": "code",
   "execution_count": 1,
   "metadata": {
    "ExecuteTime": {
     "end_time": "2020-01-09T12:45:58.120459Z",
     "start_time": "2020-01-09T12:45:49.193037Z"
    }
   },
   "outputs": [
    {
     "name": "stderr",
     "output_type": "stream",
     "text": [
      "Using TensorFlow backend.\n"
     ]
    }
   ],
   "source": [
    "import keras\n",
    "#from keras.datasets import cifar10\n",
    "from keras.datasets import mnist \n",
    "from keras.preprocessing.image import ImageDataGenerator\n",
    "from keras.models import Sequential, load_model\n",
    "from keras.layers import Dense, Dropout, Activation, Flatten\n",
    "from keras.layers import Conv2D, MaxPooling2D\n",
    "from keras import optimizers\n",
    "from keras.callbacks import EarlyStopping, ModelCheckpoint\n",
    "import numpy \n"
   ]
  },
  {
   "cell_type": "code",
   "execution_count": 2,
   "metadata": {
    "ExecuteTime": {
     "end_time": "2020-01-09T12:45:58.222355Z",
     "start_time": "2020-01-09T12:45:58.121458Z"
    }
   },
   "outputs": [],
   "source": [
    "#    第一步：選擇模型, 順序模型是多個網絡層的線性堆疊\n",
    " \n",
    "model = Sequential()\n",
    "\n",
    "#   第二步：構建網絡層\n",
    " \n",
    "model.add(Dense( 500,input_shape=(784,))) # 輸入層，28*28=784   \n",
    "model.add(Activation('relu')) # 激活函數是relu   \n",
    "\n",
    "model.add(Dense( 500)) # 隱藏層節點500個   \n",
    "model.add(Activation('relu'))  \n",
    "\n",
    "model.add(Dense( 500)) # 隱藏層節點500個   \n",
    "model.add(Activation('relu'))  \n",
    "\n",
    "model.add(Dense( 500)) # 隱藏層節點500個   \n",
    "model.add(Activation('relu'))  \n",
    "\n",
    "model.add(Dense( 10)) # 輸出結果是10個類別，所以維度是10   \n",
    "model.add(Activation('softmax')) # 最後一層用softmax作為激活函數"
   ]
  },
  {
   "cell_type": "code",
   "execution_count": 3,
   "metadata": {
    "ExecuteTime": {
     "end_time": "2020-01-09T12:45:58.226246Z",
     "start_time": "2020-01-09T12:45:58.223226Z"
    }
   },
   "outputs": [
    {
     "name": "stdout",
     "output_type": "stream",
     "text": [
      "Total Parameters：1149010\n"
     ]
    }
   ],
   "source": [
    "# 模型建立完成後，統計參數總量\n",
    "print(\"Total Parameters：%d\" % model.count_params())"
   ]
  },
  {
   "cell_type": "code",
   "execution_count": 4,
   "metadata": {
    "ExecuteTime": {
     "end_time": "2020-01-09T12:45:58.231216Z",
     "start_time": "2020-01-09T12:45:58.227225Z"
    }
   },
   "outputs": [
    {
     "name": "stdout",
     "output_type": "stream",
     "text": [
      "Model: \"sequential_1\"\n",
      "_________________________________________________________________\n",
      "Layer (type)                 Output Shape              Param #   \n",
      "=================================================================\n",
      "dense_1 (Dense)              (None, 500)               392500    \n",
      "_________________________________________________________________\n",
      "activation_1 (Activation)    (None, 500)               0         \n",
      "_________________________________________________________________\n",
      "dense_2 (Dense)              (None, 500)               250500    \n",
      "_________________________________________________________________\n",
      "activation_2 (Activation)    (None, 500)               0         \n",
      "_________________________________________________________________\n",
      "dense_3 (Dense)              (None, 500)               250500    \n",
      "_________________________________________________________________\n",
      "activation_3 (Activation)    (None, 500)               0         \n",
      "_________________________________________________________________\n",
      "dense_4 (Dense)              (None, 500)               250500    \n",
      "_________________________________________________________________\n",
      "activation_4 (Activation)    (None, 500)               0         \n",
      "_________________________________________________________________\n",
      "dense_5 (Dense)              (None, 10)                5010      \n",
      "_________________________________________________________________\n",
      "activation_5 (Activation)    (None, 10)                0         \n",
      "=================================================================\n",
      "Total params: 1,149,010\n",
      "Trainable params: 1,149,010\n",
      "Non-trainable params: 0\n",
      "_________________________________________________________________\n"
     ]
    }
   ],
   "source": [
    "# 輸出模型摘要資訊\n",
    "model.summary()"
   ]
  },
  {
   "cell_type": "code",
   "execution_count": 5,
   "metadata": {
    "ExecuteTime": {
     "end_time": "2020-01-09T12:45:58.250180Z",
     "start_time": "2020-01-09T12:45:58.232202Z"
    }
   },
   "outputs": [
    {
     "data": {
      "text/plain": [
       "'\\nRMSprop- Arguments\\nlr: float >= 0. Learning rate.\\nrho: float >= 0.\\nepsilon: float >= 0. Fuzz factor. If None, defaults to K.epsilon().\\ndecay: float >= 0. Learning rate decay over each update.\\n'"
      ]
     },
     "execution_count": 5,
     "metadata": {},
     "output_type": "execute_result"
    }
   ],
   "source": [
    " '''\n",
    " SGD(隨機梯度下降) - Arguments\n",
    "lr: float >= 0. Learning rate.\n",
    "momentum: float >= 0. Parameter that accelerates SGD in the relevant direction and dampens oscillations.\n",
    "decay: float >= 0. Learning rate decay over each update.\n",
    "nesterov: boolean. Whether to apply Nesterov momentum.\n",
    "'''\n",
    "opt = optimizers.SGD(lr=0.01, decay=1e-6, momentum=0.9, nesterov=True)\n",
    "'''\n",
    "RMSprop- Arguments\n",
    "lr: float >= 0. Learning rate.\n",
    "rho: float >= 0.\n",
    "epsilon: float >= 0. Fuzz factor. If None, defaults to K.epsilon().\n",
    "decay: float >= 0. Learning rate decay over each update.\n",
    "'''\n",
    "#opt = optimizers.RMSprop(lr=0.001, rho=0.9, epsilon=None, decay=0.0)"
   ]
  },
  {
   "cell_type": "code",
   "execution_count": 6,
   "metadata": {
    "ExecuteTime": {
     "end_time": "2020-01-09T12:45:58.281071Z",
     "start_time": "2020-01-09T12:45:58.251151Z"
    }
   },
   "outputs": [],
   "source": [
    "# 第三步：編譯, \n",
    "model.compile(optimizer = opt, loss = 'binary_crossentropy', metrics = ['accuracy'])"
   ]
  },
  {
   "cell_type": "code",
   "execution_count": 7,
   "metadata": {
    "ExecuteTime": {
     "end_time": "2020-01-09T12:45:58.494007Z",
     "start_time": "2020-01-09T12:45:58.282069Z"
    }
   },
   "outputs": [],
   "source": [
    "#  第四步：資料分割\n",
    "# 使用Keras自帶的mnist工具讀取數據（第一次需要聯網）\n",
    "(X_train, y_train), (X_test, y_test) = mnist.load_data() \n",
    "\n",
    "# 由於mist的輸入數據維度是(num, 28 , 28)，這裡需要把後面的維度直接拼起來變成784維   \n",
    "X_train = X_train.reshape(X_train.shape[0], X_train.shape[1] * X_train.shape[2 ])\n",
    "X_test = X_test.reshape(X_test.shape[0], X_test.shape[1] * X_test.shape[2 ])  \n",
    "Y_train = (numpy.arange(10) == y_train[:, None]).astype(int)\n",
    "Y_test = (numpy.arange(10) == y_test[:, None]).astype(int)\n"
   ]
  },
  {
   "cell_type": "code",
   "execution_count": 8,
   "metadata": {
    "ExecuteTime": {
     "end_time": "2020-01-09T12:45:58.497987Z",
     "start_time": "2020-01-09T12:45:58.494997Z"
    }
   },
   "outputs": [
    {
     "data": {
      "text/plain": [
       "'\\n   宣告並設定\\n   batch_size：對總的樣本數進行分組，每組包含的樣本數量\\n   epochs ：訓練次數\\n   \\n'"
      ]
     },
     "execution_count": 8,
     "metadata": {},
     "output_type": "execute_result"
    }
   ],
   "source": [
    "\n",
    "'''\n",
    "   宣告並設定\n",
    "   batch_size：對總的樣本數進行分組，每組包含的樣本數量\n",
    "   epochs ：訓練次數\n",
    "   \n",
    "''' \n"
   ]
  },
  {
   "cell_type": "code",
   "execution_count": 9,
   "metadata": {
    "ExecuteTime": {
     "end_time": "2020-01-09T12:46:23.036725Z",
     "start_time": "2020-01-09T12:45:58.498962Z"
    }
   },
   "outputs": [
    {
     "name": "stdout",
     "output_type": "stream",
     "text": [
      "WARNING:tensorflow:From C:\\Users\\ddx00\\AppData\\Local\\Continuum\\anaconda3\\lib\\site-packages\\tensorflow\\python\\ops\\math_grad.py:1250: add_dispatch_support.<locals>.wrapper (from tensorflow.python.ops.array_ops) is deprecated and will be removed in a future version.\n",
      "Instructions for updating:\n",
      "Use tf.where in 2.0, which has the same broadcast rule as np.where\n",
      "WARNING:tensorflow:From C:\\Users\\ddx00\\AppData\\Local\\Continuum\\anaconda3\\lib\\site-packages\\keras\\backend\\tensorflow_backend.py:422: The name tf.global_variables is deprecated. Please use tf.compat.v1.global_variables instead.\n",
      "\n",
      "Train on 42000 samples, validate on 18000 samples\n",
      "Epoch 1/20\n",
      " - 2s - loss: 2.7781 - accuracy: 0.8192 - val_loss: 2.7664 - val_accuracy: 0.8201\n",
      "Epoch 2/20\n",
      " - 1s - loss: 2.7800 - accuracy: 0.8192 - val_loss: 2.7664 - val_accuracy: 0.8201\n",
      "Epoch 3/20\n",
      " - 1s - loss: 2.7800 - accuracy: 0.8192 - val_loss: 2.7664 - val_accuracy: 0.8201\n",
      "Epoch 4/20\n",
      " - 1s - loss: 2.7800 - accuracy: 0.8192 - val_loss: 2.7664 - val_accuracy: 0.8201\n",
      "Epoch 5/20\n",
      " - 1s - loss: 2.7800 - accuracy: 0.8192 - val_loss: 2.7664 - val_accuracy: 0.8201\n",
      "Epoch 6/20\n",
      " - 1s - loss: 2.7800 - accuracy: 0.8192 - val_loss: 2.7664 - val_accuracy: 0.8201\n",
      "Epoch 7/20\n",
      " - 1s - loss: 2.7800 - accuracy: 0.8192 - val_loss: 2.7664 - val_accuracy: 0.8201\n",
      "Epoch 8/20\n",
      " - 1s - loss: 2.7800 - accuracy: 0.8192 - val_loss: 2.7664 - val_accuracy: 0.8201\n",
      "Epoch 9/20\n",
      " - 1s - loss: 2.7800 - accuracy: 0.8192 - val_loss: 2.7664 - val_accuracy: 0.8201\n",
      "Epoch 10/20\n",
      " - 1s - loss: 2.7800 - accuracy: 0.8192 - val_loss: 2.7664 - val_accuracy: 0.8201\n",
      "Epoch 11/20\n",
      " - 1s - loss: 2.7800 - accuracy: 0.8192 - val_loss: 2.7664 - val_accuracy: 0.8201\n",
      "Epoch 12/20\n",
      " - 1s - loss: 2.7800 - accuracy: 0.8192 - val_loss: 2.7664 - val_accuracy: 0.8201\n",
      "Epoch 13/20\n",
      " - 1s - loss: 2.7800 - accuracy: 0.8192 - val_loss: 2.7664 - val_accuracy: 0.8201\n",
      "Epoch 14/20\n",
      " - 1s - loss: 2.7800 - accuracy: 0.8192 - val_loss: 2.7664 - val_accuracy: 0.8201\n",
      "Epoch 15/20\n",
      " - 1s - loss: 2.7800 - accuracy: 0.8192 - val_loss: 2.7664 - val_accuracy: 0.8201\n",
      "Epoch 16/20\n",
      " - 1s - loss: 2.7800 - accuracy: 0.8192 - val_loss: 2.7664 - val_accuracy: 0.8201\n",
      "Epoch 17/20\n",
      " - 1s - loss: 2.7800 - accuracy: 0.8192 - val_loss: 2.7664 - val_accuracy: 0.8201\n",
      "Epoch 18/20\n",
      " - 1s - loss: 2.7800 - accuracy: 0.8192 - val_loss: 2.7664 - val_accuracy: 0.8201\n",
      "Epoch 19/20\n",
      " - 1s - loss: 2.7800 - accuracy: 0.8192 - val_loss: 2.7664 - val_accuracy: 0.8201\n",
      "Epoch 20/20\n",
      " - 1s - loss: 2.7800 - accuracy: 0.8192 - val_loss: 2.7664 - val_accuracy: 0.8201\n"
     ]
    }
   ],
   "source": [
    "# 第五步：訓練, 修正 model 參數\n",
    "#Blas GEMM launch failed , 避免動態分配GPU / CPU, 出現問題\n",
    "import tensorflow as tf\n",
    "gpu_options = tf.GPUOptions(per_process_gpu_memory_fraction=0.333)\n",
    "sess = tf.Session(config=tf.ConfigProto(gpu_options=gpu_options))\n",
    "\n",
    "\n",
    "history = model.fit(X_train,Y_train,batch_size = 128, epochs=20, shuffle=True,verbose=2,validation_split=0.3 )"
   ]
  },
  {
   "cell_type": "code",
   "execution_count": 10,
   "metadata": {
    "ExecuteTime": {
     "end_time": "2020-01-09T12:46:23.190651Z",
     "start_time": "2020-01-09T12:46:23.037723Z"
    }
   },
   "outputs": [
    {
     "name": "stdout",
     "output_type": "stream",
     "text": [
      " test set \n",
      "\n",
      " The test loss is %f  [2.7762337207794188, 0.8194800615310669]\n",
      "\n",
      " The accuracy of the model is 0.097400 \n"
     ]
    }
   ],
   "source": [
    "#    第六步：輸出\n",
    " \n",
    "print ( \" test set \" )\n",
    "scores = model.evaluate(X_test,Y_test,batch_size=200,verbose= 0)\n",
    "print ( \"\" )\n",
    "#print ( \" The test loss is %f \" % scores)\n",
    "print ( \" The test loss is %f \", scores)\n",
    "result = model.predict(X_test,batch_size=200,verbose= 0)\n",
    "\n",
    "result_max = numpy.argmax(result, axis = 1 )\n",
    "test_max = numpy.argmax(Y_test, axis = 1 )\n",
    "\n",
    "result_bool = numpy.equal(result_max, test_max)\n",
    "true_num = numpy.sum(result_bool)\n",
    "print ( \"\" )\n",
    "print ( \" The accuracy of the model is %f \" % (true_num/len(result_bool)))"
   ]
  },
  {
   "cell_type": "code",
   "execution_count": 11,
   "metadata": {
    "ExecuteTime": {
     "end_time": "2020-01-09T12:46:23.459948Z",
     "start_time": "2020-01-09T12:46:23.191622Z"
    }
   },
   "outputs": [
    {
     "ename": "KeyError",
     "evalue": "'acc'",
     "output_type": "error",
     "traceback": [
      "\u001b[1;31m---------------------------------------------------------------------------\u001b[0m",
      "\u001b[1;31mKeyError\u001b[0m                                  Traceback (most recent call last)",
      "\u001b[1;32m<ipython-input-11-98309ddfeb38>\u001b[0m in \u001b[0;36m<module>\u001b[1;34m\u001b[0m\n\u001b[0;32m      6\u001b[0m \u001b[1;33m\u001b[0m\u001b[0m\n\u001b[0;32m      7\u001b[0m \u001b[1;31m# Plot training & validation accuracy values\u001b[0m\u001b[1;33m\u001b[0m\u001b[1;33m\u001b[0m\u001b[1;33m\u001b[0m\u001b[0m\n\u001b[1;32m----> 8\u001b[1;33m \u001b[0mplt\u001b[0m\u001b[1;33m.\u001b[0m\u001b[0mplot\u001b[0m\u001b[1;33m(\u001b[0m\u001b[0mhistory\u001b[0m\u001b[1;33m.\u001b[0m\u001b[0mhistory\u001b[0m\u001b[1;33m[\u001b[0m\u001b[1;34m'acc'\u001b[0m\u001b[1;33m]\u001b[0m\u001b[1;33m)\u001b[0m\u001b[1;33m\u001b[0m\u001b[1;33m\u001b[0m\u001b[0m\n\u001b[0m\u001b[0;32m      9\u001b[0m \u001b[0mplt\u001b[0m\u001b[1;33m.\u001b[0m\u001b[0mplot\u001b[0m\u001b[1;33m(\u001b[0m\u001b[0mhistory\u001b[0m\u001b[1;33m.\u001b[0m\u001b[0mhistory\u001b[0m\u001b[1;33m[\u001b[0m\u001b[1;34m'val_acc'\u001b[0m\u001b[1;33m]\u001b[0m\u001b[1;33m)\u001b[0m\u001b[1;33m\u001b[0m\u001b[1;33m\u001b[0m\u001b[0m\n\u001b[0;32m     10\u001b[0m \u001b[0mplt\u001b[0m\u001b[1;33m.\u001b[0m\u001b[0mtitle\u001b[0m\u001b[1;33m(\u001b[0m\u001b[1;34m'Model accuracy'\u001b[0m\u001b[1;33m)\u001b[0m\u001b[1;33m\u001b[0m\u001b[1;33m\u001b[0m\u001b[0m\n",
      "\u001b[1;31mKeyError\u001b[0m: 'acc'"
     ]
    }
   ],
   "source": [
    "import matplotlib.pyplot as plt\n",
    "\n",
    "%matplotlib inline\n",
    "\n",
    "# history = model.fit(x, y, validation_split=0.25, epochs=50, batch_size=16, verbose=1)\n",
    "\n",
    "# Plot training & validation accuracy values\n",
    "plt.plot(history.history['acc'])\n",
    "plt.plot(history.history['val_acc'])\n",
    "plt.title('Model accuracy')\n",
    "plt.ylabel('Accuracy')\n",
    "plt.xlabel('Epoch')\n",
    "plt.legend(['Train', 'Test'], loc='upper left')\n",
    "plt.show()\n",
    "\n",
    "# Plot training & validation loss values\n",
    "plt.plot(history.history['loss'])\n",
    "plt.plot(history.history['val_loss'])\n",
    "plt.title('Model loss')\n",
    "plt.ylabel('Loss')\n",
    "plt.xlabel('Epoch')\n",
    "plt.legend(['Train', 'Test'], loc='upper left')\n",
    "plt.show()"
   ]
  },
  {
   "cell_type": "code",
   "execution_count": null,
   "metadata": {},
   "outputs": [],
   "source": []
  }
 ],
 "metadata": {
  "kernelspec": {
   "display_name": "Python 3",
   "language": "python",
   "name": "python3"
  },
  "language_info": {
   "codemirror_mode": {
    "name": "ipython",
    "version": 3
   },
   "file_extension": ".py",
   "mimetype": "text/x-python",
   "name": "python",
   "nbconvert_exporter": "python",
   "pygments_lexer": "ipython3",
   "version": "3.7.3"
  },
  "varInspector": {
   "cols": {
    "lenName": 16,
    "lenType": 16,
    "lenVar": 40
   },
   "kernels_config": {
    "python": {
     "delete_cmd_postfix": "",
     "delete_cmd_prefix": "del ",
     "library": "var_list.py",
     "varRefreshCmd": "print(var_dic_list())"
    },
    "r": {
     "delete_cmd_postfix": ") ",
     "delete_cmd_prefix": "rm(",
     "library": "var_list.r",
     "varRefreshCmd": "cat(var_dic_list()) "
    }
   },
   "types_to_exclude": [
    "module",
    "function",
    "builtin_function_or_method",
    "instance",
    "_Feature"
   ],
   "window_display": false
  }
 },
 "nbformat": 4,
 "nbformat_minor": 2
}
