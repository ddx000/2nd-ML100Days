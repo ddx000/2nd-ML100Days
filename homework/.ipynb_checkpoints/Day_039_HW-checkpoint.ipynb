{
 "cells": [
  {
   "cell_type": "markdown",
   "metadata": {},
   "source": [
    "## [作業重點]\n",
    "清楚了解 L1, L2 的意義與差異為何，並了解 LASSO 與 Ridge 之間的差異與使用情境"
   ]
  },
  {
   "cell_type": "markdown",
   "metadata": {},
   "source": [
    "## 作業"
   ]
  },
  {
   "cell_type": "markdown",
   "metadata": {},
   "source": [
    "請閱讀相關文獻，並回答下列問題\n",
    "\n",
    "[脊回歸 (Ridge Regression)](https://blog.csdn.net/daunxx/article/details/51578787)\n",
    "[Linear, Ridge, Lasso Regression 本質區別](https://www.zhihu.com/question/38121173)\n",
    "\n",
    "1. LASSO 回歸可以被用來作為 Feature selection 的工具，請了解 LASSO 模型為什麼可用來作 Feature selection\n",
    "2. 當自變數 (X) 存在高度共線性時，Ridge Regression 可以處理這樣的問題嗎?\n"
   ]
  },
  {
   "cell_type": "markdown",
   "metadata": {},
   "source": [
    "1. lasso 是損失函數加上L1正規化(也就是絕對值係數)，當超參數alpha值增加時，(逞罰增加時)，許多不重要的feature係數就會變成0，也就是一個selection的動作\n",
    "2. 實質上，Ridge模型會將具有相關性的變數推向彼此，並避免使得其中一個有極大正係數另一個有極大負係數的情況。\n",
    "\n",
    "『http://dasanlin888.pixnet.net/blog/post/34469324』-之前部落格文章中有介紹迴歸係數跟預期方向相反的相關議題，我們定義為可能是多元共線性所造成的，對於研究者來說勢必相當困擾，畢竟此結果無法使用。\n",
    "\n",
    "因此進行迴歸分析時，當遭遇以下幾種情況時，可能要注意迴歸模式中是否存在多元共線性（multi-collinearity）的問題：（1）共線性指標超過標準（含容忍度tolerance、變異膨脹因子VIF、條件指標CI）（2）迴歸係數的方向性與相關係數相反（3）解釋力R平方過高，但個別變項的係數未達顯著水準。\n",
    "\n",
    "解決多元共線性的統計模式或方式還蠻多的，根據筆者的經驗，可以優先考慮的第一種作法是將選擇變數的方法改為逐步法（stepwise），若能將存在共線性的自變數排除在模式之外，可大幅改善統計結果的不合理；第二種作法，則是先利用主成分分析（principal components analysis，PCA）將線性重合的自變數重新建構成新的潛在變項（主成分得分），來替代原有的自變數，詳細的操作流程可參考（吳明隆，2009。SPSS操作與應用–問卷統計分析實務。臺北市：五南），不過主成分分數的命名，又是另一個頭痛的問題；第三種作法，則是本篇下方即將介紹的脊迴歸（ridge regression）。"
   ]
  }
 ],
 "metadata": {
  "kernelspec": {
   "display_name": "Python 3",
   "language": "python",
   "name": "python3"
  },
  "language_info": {
   "codemirror_mode": {
    "name": "ipython",
    "version": 3
   },
   "file_extension": ".py",
   "mimetype": "text/x-python",
   "name": "python",
   "nbconvert_exporter": "python",
   "pygments_lexer": "ipython3",
   "version": "3.7.3"
  },
  "varInspector": {
   "cols": {
    "lenName": 16,
    "lenType": 16,
    "lenVar": 40
   },
   "kernels_config": {
    "python": {
     "delete_cmd_postfix": "",
     "delete_cmd_prefix": "del ",
     "library": "var_list.py",
     "varRefreshCmd": "print(var_dic_list())"
    },
    "r": {
     "delete_cmd_postfix": ") ",
     "delete_cmd_prefix": "rm(",
     "library": "var_list.r",
     "varRefreshCmd": "cat(var_dic_list()) "
    }
   },
   "types_to_exclude": [
    "module",
    "function",
    "builtin_function_or_method",
    "instance",
    "_Feature"
   ],
   "window_display": false
  }
 },
 "nbformat": 4,
 "nbformat_minor": 2
}
