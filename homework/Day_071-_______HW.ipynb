{
 "cells": [
  {
   "cell_type": "markdown",
   "metadata": {
    "colab_type": "text",
    "id": "cj4tE8e8iUtO"
   },
   "source": [
    "#   \n",
    "\n",
    "# 作業目標:\n",
    "\n",
    "    1. 藉由固定的 dataset, 來驗證不同loss function\n",
    "    2. Dataset 的特性跟我們選用的loss function 對accrancy 的影響\n",
    "    \n",
    "    \n",
    "# 作業重點: \n",
    "    請分別選用 \"MSE\", \"binary _crossentropy\"\n",
    "    查看Train/test accurancy and loss rate\n",
    "    "
   ]
  },
  {
   "cell_type": "markdown",
   "metadata": {
    "colab_type": "text",
    "id": "R51J4KyyiUsL"
   },
   "source": [
    "# 導入必要的函數"
   ]
  },
  {
   "cell_type": "code",
   "execution_count": 1,
   "metadata": {
    "ExecuteTime": {
     "end_time": "2019-12-29T12:40:57.857916Z",
     "start_time": "2019-12-29T12:40:53.591835Z"
    },
    "colab": {},
    "colab_type": "code",
    "id": "Qd68OQjciUsM"
   },
   "outputs": [
    {
     "name": "stderr",
     "output_type": "stream",
     "text": [
      "Using TensorFlow backend.\n"
     ]
    }
   ],
   "source": [
    "from keras.datasets import cifar10\n",
    "import numpy as np\n",
    "np.random.seed(10)"
   ]
  },
  {
   "cell_type": "markdown",
   "metadata": {
    "colab_type": "text",
    "id": "GxKuzQLQiUsP"
   },
   "source": [
    "# 資料準備"
   ]
  },
  {
   "cell_type": "code",
   "execution_count": 2,
   "metadata": {
    "ExecuteTime": {
     "end_time": "2019-12-29T12:40:58.406004Z",
     "start_time": "2019-12-29T12:40:57.870720Z"
    },
    "colab": {},
    "colab_type": "code",
    "id": "MIbFZdTCiUsQ"
   },
   "outputs": [],
   "source": [
    "#取得Keras Dataset\n",
    "(x_img_train,y_label_train),(x_img_test,y_label_test)=cifar10.load_data()"
   ]
  },
  {
   "cell_type": "code",
   "execution_count": 3,
   "metadata": {
    "ExecuteTime": {
     "end_time": "2019-12-29T12:40:58.426863Z",
     "start_time": "2019-12-29T12:40:58.422874Z"
    },
    "colab": {},
    "colab_type": "code",
    "id": "J8CJVjNOiUsS"
   },
   "outputs": [
    {
     "name": "stdout",
     "output_type": "stream",
     "text": [
      "train data: images: (50000, 32, 32, 3)  labels: (50000, 1)\n",
      "test  data: images: (10000, 32, 32, 3)  labels: (10000, 1)\n"
     ]
    }
   ],
   "source": [
    "#確認 CIFAR10 Dataset 資料維度\n",
    "print(\"train data:\",'images:',x_img_train.shape,\n",
    "      \" labels:\",y_label_train.shape) \n",
    "print(\"test  data:\",'images:',x_img_test.shape ,\n",
    "      \" labels:\",y_label_test.shape) "
   ]
  },
  {
   "cell_type": "code",
   "execution_count": 4,
   "metadata": {
    "ExecuteTime": {
     "end_time": "2019-12-29T12:40:58.889627Z",
     "start_time": "2019-12-29T12:40:58.442821Z"
    },
    "colab": {},
    "colab_type": "code",
    "id": "V3P6P4DXiUsV"
   },
   "outputs": [],
   "source": [
    "#資料正規化\n",
    "x_img_train_normalize = x_img_train.astype('float32') / 255.0\n",
    "x_img_test_normalize = x_img_test.astype('float32') / 255.0"
   ]
  },
  {
   "cell_type": "code",
   "execution_count": 5,
   "metadata": {
    "ExecuteTime": {
     "end_time": "2019-12-29T12:40:58.934506Z",
     "start_time": "2019-12-29T12:40:58.924533Z"
    },
    "colab": {},
    "colab_type": "code",
    "id": "vsDyjKYliUsX"
   },
   "outputs": [
    {
     "data": {
      "text/plain": [
       "(10000, 10)"
      ]
     },
     "execution_count": 5,
     "metadata": {},
     "output_type": "execute_result"
    }
   ],
   "source": [
    "#針對Label 做 ONE HOT ENCODE\n",
    "from keras.utils import np_utils\n",
    "y_label_train_OneHot = np_utils.to_categorical(y_label_train)\n",
    "y_label_test_OneHot = np_utils.to_categorical(y_label_test)\n",
    "y_label_test_OneHot.shape"
   ]
  },
  {
   "cell_type": "markdown",
   "metadata": {
    "colab_type": "text",
    "id": "RutW2OtgiUsZ"
   },
   "source": [
    "# 建立模型"
   ]
  },
  {
   "cell_type": "code",
   "execution_count": 6,
   "metadata": {
    "ExecuteTime": {
     "end_time": "2019-12-29T12:40:59.580520Z",
     "start_time": "2019-12-29T12:40:59.577529Z"
    },
    "colab": {},
    "colab_type": "code",
    "id": "aHz592aXiUsa"
   },
   "outputs": [],
   "source": [
    "from keras.models import Sequential\n",
    "from keras.layers import Dense, Dropout, Activation, Flatten\n",
    "from keras.layers import Conv2D, MaxPooling2D, ZeroPadding2D"
   ]
  },
  {
   "cell_type": "code",
   "execution_count": 7,
   "metadata": {
    "ExecuteTime": {
     "end_time": "2019-12-29T12:41:00.152509Z",
     "start_time": "2019-12-29T12:41:00.119598Z"
    },
    "colab": {},
    "colab_type": "code",
    "id": "hslqrIp0iUse"
   },
   "outputs": [],
   "source": [
    "model = Sequential()"
   ]
  },
  {
   "cell_type": "code",
   "execution_count": 8,
   "metadata": {
    "ExecuteTime": {
     "end_time": "2019-12-29T12:41:00.775807Z",
     "start_time": "2019-12-29T12:41:00.772792Z"
    },
    "colab": {},
    "colab_type": "code",
    "id": "Hqe35hs2iUsi"
   },
   "outputs": [],
   "source": [
    "#卷積層1"
   ]
  },
  {
   "cell_type": "code",
   "execution_count": 9,
   "metadata": {
    "ExecuteTime": {
     "end_time": "2019-12-29T12:41:01.203639Z",
     "start_time": "2019-12-29T12:41:01.167759Z"
    },
    "colab": {},
    "colab_type": "code",
    "id": "ED7dqe1YiUsm"
   },
   "outputs": [],
   "source": [
    "model.add(Conv2D(filters=32,kernel_size=(3,3),\n",
    "                 input_shape=(32, 32,3), \n",
    "                 activation='relu', \n",
    "                 padding='same'))"
   ]
  },
  {
   "cell_type": "code",
   "execution_count": 10,
   "metadata": {
    "ExecuteTime": {
     "end_time": "2019-12-29T12:41:01.357229Z",
     "start_time": "2019-12-29T12:41:01.339277Z"
    },
    "colab": {},
    "colab_type": "code",
    "id": "n-GRKmPViUso"
   },
   "outputs": [],
   "source": [
    "model.add(Dropout(rate=0.25))"
   ]
  },
  {
   "cell_type": "code",
   "execution_count": 11,
   "metadata": {
    "ExecuteTime": {
     "end_time": "2019-12-29T12:41:01.531763Z",
     "start_time": "2019-12-29T12:41:01.525778Z"
    },
    "colab": {},
    "colab_type": "code",
    "id": "GlWnnD1uiUsw"
   },
   "outputs": [
    {
     "name": "stdout",
     "output_type": "stream",
     "text": [
      "WARNING:tensorflow:From C:\\Users\\ddx00\\AppData\\Local\\Continuum\\anaconda3\\lib\\site-packages\\keras\\backend\\tensorflow_backend.py:4070: The name tf.nn.max_pool is deprecated. Please use tf.nn.max_pool2d instead.\n",
      "\n"
     ]
    }
   ],
   "source": [
    "model.add(MaxPooling2D(pool_size=(2, 2)))"
   ]
  },
  {
   "cell_type": "code",
   "execution_count": 12,
   "metadata": {
    "ExecuteTime": {
     "end_time": "2019-12-29T12:41:01.697319Z",
     "start_time": "2019-12-29T12:41:01.694328Z"
    },
    "colab": {},
    "colab_type": "code",
    "id": "nawlkt55iUsy"
   },
   "outputs": [],
   "source": [
    "#卷積層2與池化層2"
   ]
  },
  {
   "cell_type": "code",
   "execution_count": 13,
   "metadata": {
    "ExecuteTime": {
     "end_time": "2019-12-29T12:41:01.868861Z",
     "start_time": "2019-12-29T12:41:01.853901Z"
    },
    "colab": {},
    "colab_type": "code",
    "id": "xxyETiKNiUs1"
   },
   "outputs": [],
   "source": [
    "model.add(Conv2D(filters=64, kernel_size=(3, 3), \n",
    "                 activation='relu', padding='same'))"
   ]
  },
  {
   "cell_type": "code",
   "execution_count": 14,
   "metadata": {
    "ExecuteTime": {
     "end_time": "2019-12-29T12:41:02.028461Z",
     "start_time": "2019-12-29T12:41:02.014492Z"
    },
    "colab": {},
    "colab_type": "code",
    "id": "RqcKWtqGiUs2"
   },
   "outputs": [],
   "source": [
    "model.add(Dropout(0.25))"
   ]
  },
  {
   "cell_type": "code",
   "execution_count": 15,
   "metadata": {
    "ExecuteTime": {
     "end_time": "2019-12-29T12:41:02.187010Z",
     "start_time": "2019-12-29T12:41:02.182024Z"
    },
    "colab": {},
    "colab_type": "code",
    "id": "BUOOzlqfiUs4"
   },
   "outputs": [],
   "source": [
    "model.add(MaxPooling2D(pool_size=(2, 2)))"
   ]
  },
  {
   "cell_type": "code",
   "execution_count": 16,
   "metadata": {
    "ExecuteTime": {
     "end_time": "2019-12-29T12:41:02.371517Z",
     "start_time": "2019-12-29T12:41:02.368550Z"
    },
    "colab": {},
    "colab_type": "code",
    "id": "LpkppB2siUs7"
   },
   "outputs": [],
   "source": [
    "#建立神經網路(平坦層、隱藏層、輸出層)"
   ]
  },
  {
   "cell_type": "code",
   "execution_count": 17,
   "metadata": {
    "ExecuteTime": {
     "end_time": "2019-12-29T12:41:03.071773Z",
     "start_time": "2019-12-29T12:41:03.049853Z"
    },
    "colab": {},
    "colab_type": "code",
    "id": "UQOfU54_iUs_"
   },
   "outputs": [],
   "source": [
    "model.add(Flatten())\n",
    "model.add(Dropout(rate=0.25))"
   ]
  },
  {
   "cell_type": "code",
   "execution_count": 18,
   "metadata": {
    "ExecuteTime": {
     "end_time": "2019-12-29T12:41:03.586397Z",
     "start_time": "2019-12-29T12:41:03.558471Z"
    },
    "colab": {},
    "colab_type": "code",
    "id": "_NV-8sq4iUtD"
   },
   "outputs": [],
   "source": [
    "model.add(Dense(1024, activation='relu'))\n",
    "model.add(Dropout(rate=0.25))"
   ]
  },
  {
   "cell_type": "code",
   "execution_count": 19,
   "metadata": {
    "ExecuteTime": {
     "end_time": "2019-12-29T12:41:03.965383Z",
     "start_time": "2019-12-29T12:41:03.949445Z"
    },
    "colab": {},
    "colab_type": "code",
    "id": "qVK77krOiUtF"
   },
   "outputs": [],
   "source": [
    "model.add(Dense(10, activation='softmax'))"
   ]
  },
  {
   "cell_type": "code",
   "execution_count": 20,
   "metadata": {
    "ExecuteTime": {
     "end_time": "2019-12-29T12:41:04.613075Z",
     "start_time": "2019-12-29T12:41:04.609086Z"
    },
    "colab": {},
    "colab_type": "code",
    "id": "ZxzRIjR0iUtH"
   },
   "outputs": [
    {
     "name": "stdout",
     "output_type": "stream",
     "text": [
      "Model: \"sequential_1\"\n",
      "_________________________________________________________________\n",
      "Layer (type)                 Output Shape              Param #   \n",
      "=================================================================\n",
      "conv2d_1 (Conv2D)            (None, 32, 32, 32)        896       \n",
      "_________________________________________________________________\n",
      "dropout_1 (Dropout)          (None, 32, 32, 32)        0         \n",
      "_________________________________________________________________\n",
      "max_pooling2d_1 (MaxPooling2 (None, 16, 16, 32)        0         \n",
      "_________________________________________________________________\n",
      "conv2d_2 (Conv2D)            (None, 16, 16, 64)        18496     \n",
      "_________________________________________________________________\n",
      "dropout_2 (Dropout)          (None, 16, 16, 64)        0         \n",
      "_________________________________________________________________\n",
      "max_pooling2d_2 (MaxPooling2 (None, 8, 8, 64)          0         \n",
      "_________________________________________________________________\n",
      "flatten_1 (Flatten)          (None, 4096)              0         \n",
      "_________________________________________________________________\n",
      "dropout_3 (Dropout)          (None, 4096)              0         \n",
      "_________________________________________________________________\n",
      "dense_1 (Dense)              (None, 1024)              4195328   \n",
      "_________________________________________________________________\n",
      "dropout_4 (Dropout)          (None, 1024)              0         \n",
      "_________________________________________________________________\n",
      "dense_2 (Dense)              (None, 10)                10250     \n",
      "=================================================================\n",
      "Total params: 4,224,970\n",
      "Trainable params: 4,224,970\n",
      "Non-trainable params: 0\n",
      "_________________________________________________________________\n",
      "None\n"
     ]
    }
   ],
   "source": [
    "#檢查model 的STACK\n",
    "print(model.summary())"
   ]
  },
  {
   "cell_type": "markdown",
   "metadata": {
    "colab_type": "text",
    "id": "QJCtpJM0iUtJ"
   },
   "source": [
    "# 載入之前訓練的模型"
   ]
  },
  {
   "cell_type": "code",
   "execution_count": 21,
   "metadata": {
    "ExecuteTime": {
     "end_time": "2019-12-29T12:41:06.467889Z",
     "start_time": "2019-12-29T12:41:06.461905Z"
    },
    "colab": {},
    "colab_type": "code",
    "id": "JU3A6NzQiUtK"
   },
   "outputs": [
    {
     "name": "stdout",
     "output_type": "stream",
     "text": [
      "載入模型失敗!開始訓練一個新模型\n"
     ]
    }
   ],
   "source": [
    "try:\n",
    "    model.load_weights(\"SaveModel/cifarCnnModel.h5\")\n",
    "    print(\"載入模型成功!繼續訓練模型\")\n",
    "except :    \n",
    "    print(\"載入模型失敗!開始訓練一個新模型\")"
   ]
  },
  {
   "cell_type": "markdown",
   "metadata": {
    "colab_type": "text",
    "id": "qBbCuziziUtM"
   },
   "source": [
    "# 訓練模型"
   ]
  },
  {
   "cell_type": "code",
   "execution_count": 22,
   "metadata": {
    "ExecuteTime": {
     "end_time": "2019-12-29T12:42:11.268565Z",
     "start_time": "2019-12-29T12:41:07.573581Z"
    },
    "colab": {},
    "colab_type": "code",
    "id": "Q6BiBcseiUtP"
   },
   "outputs": [
    {
     "name": "stdout",
     "output_type": "stream",
     "text": [
      "WARNING:tensorflow:From C:\\Users\\ddx00\\AppData\\Local\\Continuum\\anaconda3\\lib\\site-packages\\keras\\backend\\tensorflow_backend.py:422: The name tf.global_variables is deprecated. Please use tf.compat.v1.global_variables instead.\n",
      "\n",
      "Train on 37500 samples, validate on 12500 samples\n",
      "Epoch 1/12\n",
      "37500/37500 [==============================] - 7s 196us/step - loss: 0.0906 - accuracy: 0.0998 - val_loss: 0.0899 - val_accuracy: 0.1144\n",
      "Epoch 2/12\n",
      "37500/37500 [==============================] - 5s 129us/step - loss: 0.0902 - accuracy: 0.1074 - val_loss: 0.0898 - val_accuracy: 0.1288\n",
      "Epoch 3/12\n",
      "37500/37500 [==============================] - 5s 129us/step - loss: 0.0900 - accuracy: 0.1156 - val_loss: 0.0898 - val_accuracy: 0.1382\n",
      "Epoch 4/12\n",
      "37500/37500 [==============================] - 5s 130us/step - loss: 0.0899 - accuracy: 0.1173 - val_loss: 0.0897 - val_accuracy: 0.1474\n",
      "Epoch 5/12\n",
      "37500/37500 [==============================] - 5s 132us/step - loss: 0.0898 - accuracy: 0.1237 - val_loss: 0.0896 - val_accuracy: 0.1532\n",
      "Epoch 6/12\n",
      "37500/37500 [==============================] - 5s 129us/step - loss: 0.0897 - accuracy: 0.1288 - val_loss: 0.0895 - val_accuracy: 0.1587\n",
      "Epoch 7/12\n",
      "37500/37500 [==============================] - 5s 133us/step - loss: 0.0895 - accuracy: 0.1341 - val_loss: 0.0894 - val_accuracy: 0.1662\n",
      "Epoch 8/12\n",
      "37500/37500 [==============================] - 5s 130us/step - loss: 0.0894 - accuracy: 0.1391 - val_loss: 0.0894 - val_accuracy: 0.1745\n",
      "Epoch 9/12\n",
      "37500/37500 [==============================] - 5s 131us/step - loss: 0.0893 - accuracy: 0.1439 - val_loss: 0.0893 - val_accuracy: 0.1780\n",
      "Epoch 10/12\n",
      "37500/37500 [==============================] - 5s 131us/step - loss: 0.0892 - accuracy: 0.1501 - val_loss: 0.0892 - val_accuracy: 0.1826\n",
      "Epoch 11/12\n",
      "37500/37500 [==============================] - 5s 130us/step - loss: 0.0891 - accuracy: 0.1539 - val_loss: 0.0891 - val_accuracy: 0.1906\n",
      "Epoch 12/12\n",
      "37500/37500 [==============================] - 5s 130us/step - loss: 0.0889 - accuracy: 0.1558 - val_loss: 0.0890 - val_accuracy: 0.1951\n"
     ]
    }
   ],
   "source": [
    "model.compile(loss='MSE', optimizer='sgd', metrics=['accuracy'])\n",
    "\n",
    "#模型訓練, \"Train_History\" 把訓練過程所得到的數值存起來\n",
    "train_history=model.fit(x_img_train_normalize, y_label_train_OneHot,\n",
    "                        validation_split=0.25,\n",
    "                        epochs=12, batch_size=128, verbose=1)         \n",
    "\n",
    "#[validation_split = 0.2] validation_split：在0和1之間浮動。用作驗證數據的訓練數據的分數。\n",
    "#該模型將訓練數據的這一部分分開，不會對其進行訓練，並將在每個時期結束時評估該數據的損失和任何模型指標。\n",
    "#[batch_size]：整數或None。每個梯度更新的樣本數。指定，batch_size為128"
   ]
  },
  {
   "cell_type": "code",
   "execution_count": 23,
   "metadata": {
    "ExecuteTime": {
     "end_time": "2019-12-29T12:42:15.015418Z",
     "start_time": "2019-12-29T12:42:14.796872Z"
    }
   },
   "outputs": [],
   "source": [
    "import matplotlib.pyplot as plt\n",
    "%matplotlib inline\n",
    "\n",
    "#定義一個繪圖函數\n",
    "def show_train_history(train_acc,test_acc):\n",
    "    plt.plot(train_history.history[train_acc])\n",
    "    plt.plot(train_history.history[test_acc])\n",
    "    plt.title('Train History')\n",
    "    plt.ylabel('Accuracy')\n",
    "    plt.xlabel('Epoch')\n",
    "    plt.legend(['train_acc', 'val_acc'], loc='upper left')\n",
    "    plt.show()"
   ]
  },
  {
   "cell_type": "code",
   "execution_count": 24,
   "metadata": {
    "ExecuteTime": {
     "end_time": "2019-12-29T12:42:15.712073Z",
     "start_time": "2019-12-29T12:42:15.582816Z"
    }
   },
   "outputs": [
    {
     "data": {
      "image/png": "[encoded data removed]",
      "text/plain": [
       "<Figure size 432x288 with 1 Axes>"
      ]
     },
     "metadata": {
      "needs_background": "light"
     },
     "output_type": "display_data"
    }
   ],
   "source": [
    "show_train_history('accuracy','val_accuracy')\n"
   ]
  },
  {
   "cell_type": "code",
   "execution_count": 28,
   "metadata": {
    "ExecuteTime": {
     "end_time": "2019-12-29T12:46:48.474769Z",
     "start_time": "2019-12-29T12:44:42.606887Z"
    },
    "colab": {},
    "colab_type": "code",
    "id": "4-GdDgmQiUtS"
   },
   "outputs": [
    {
     "name": "stdout",
     "output_type": "stream",
     "text": [
      "Train on 37500 samples, validate on 12500 samples\n",
      "Epoch 1/25\n",
      "37500/37500 [==============================] - 5s 141us/step - loss: 0.2415 - accuracy: 0.9094 - val_loss: 0.2142 - val_accuracy: 0.9143\n",
      "Epoch 2/25\n",
      "37500/37500 [==============================] - 5s 133us/step - loss: 0.1935 - accuracy: 0.9237 - val_loss: 0.1967 - val_accuracy: 0.9221\n",
      "Epoch 3/25\n",
      "37500/37500 [==============================] - 5s 134us/step - loss: 0.1743 - accuracy: 0.9309 - val_loss: 0.1865 - val_accuracy: 0.9260\n",
      "Epoch 4/25\n",
      "37500/37500 [==============================] - 5s 135us/step - loss: 0.1587 - accuracy: 0.9374 - val_loss: 0.1658 - val_accuracy: 0.9348\n",
      "Epoch 5/25\n",
      "37500/37500 [==============================] - 5s 134us/step - loss: 0.1464 - accuracy: 0.9426 - val_loss: 0.1565 - val_accuracy: 0.9397\n",
      "Epoch 6/25\n",
      "37500/37500 [==============================] - 5s 135us/step - loss: 0.1343 - accuracy: 0.9474 - val_loss: 0.1566 - val_accuracy: 0.9396\n",
      "Epoch 7/25\n",
      "37500/37500 [==============================] - 5s 132us/step - loss: 0.1245 - accuracy: 0.9514 - val_loss: 0.1452 - val_accuracy: 0.9438\n",
      "Epoch 8/25\n",
      "37500/37500 [==============================] - 5s 134us/step - loss: 0.1139 - accuracy: 0.9556 - val_loss: 0.1458 - val_accuracy: 0.9442\n",
      "Epoch 9/25\n",
      "37500/37500 [==============================] - 5s 134us/step - loss: 0.1043 - accuracy: 0.9596 - val_loss: 0.1366 - val_accuracy: 0.9474\n",
      "Epoch 10/25\n",
      "37500/37500 [==============================] - 5s 135us/step - loss: 0.0960 - accuracy: 0.9628 - val_loss: 0.1347 - val_accuracy: 0.9487\n",
      "Epoch 11/25\n",
      "37500/37500 [==============================] - 5s 135us/step - loss: 0.0868 - accuracy: 0.9665 - val_loss: 0.1310 - val_accuracy: 0.9499\n",
      "Epoch 12/25\n",
      "37500/37500 [==============================] - 5s 133us/step - loss: 0.0801 - accuracy: 0.9697 - val_loss: 0.1292 - val_accuracy: 0.9507\n",
      "Epoch 13/25\n",
      "37500/37500 [==============================] - 5s 134us/step - loss: 0.0719 - accuracy: 0.9725 - val_loss: 0.1269 - val_accuracy: 0.9511\n",
      "Epoch 14/25\n",
      "37500/37500 [==============================] - 5s 134us/step - loss: 0.0657 - accuracy: 0.9749 - val_loss: 0.1268 - val_accuracy: 0.9514\n",
      "Epoch 15/25\n",
      "37500/37500 [==============================] - 5s 132us/step - loss: 0.0588 - accuracy: 0.9779 - val_loss: 0.1245 - val_accuracy: 0.9518\n",
      "Epoch 16/25\n",
      "37500/37500 [==============================] - 5s 132us/step - loss: 0.0557 - accuracy: 0.9792 - val_loss: 0.1285 - val_accuracy: 0.9509\n",
      "Epoch 17/25\n",
      "37500/37500 [==============================] - 5s 132us/step - loss: 0.0484 - accuracy: 0.9818 - val_loss: 0.1268 - val_accuracy: 0.9514\n",
      "Epoch 18/25\n",
      "37500/37500 [==============================] - 5s 131us/step - loss: 0.0449 - accuracy: 0.9832 - val_loss: 0.1335 - val_accuracy: 0.9495\n",
      "Epoch 19/25\n",
      "37500/37500 [==============================] - 5s 132us/step - loss: 0.0420 - accuracy: 0.9844 - val_loss: 0.1310 - val_accuracy: 0.9505\n",
      "Epoch 20/25\n",
      "37500/37500 [==============================] - 5s 133us/step - loss: 0.0395 - accuracy: 0.9854 - val_loss: 0.1285 - val_accuracy: 0.9512\n",
      "Epoch 21/25\n",
      "37500/37500 [==============================] - 5s 133us/step - loss: 0.0374 - accuracy: 0.9860 - val_loss: 0.1308 - val_accuracy: 0.9512\n",
      "Epoch 22/25\n",
      "37500/37500 [==============================] - 5s 133us/step - loss: 0.0334 - accuracy: 0.9878 - val_loss: 0.1326 - val_accuracy: 0.9507\n",
      "Epoch 23/25\n",
      "37500/37500 [==============================] - 5s 132us/step - loss: 0.0322 - accuracy: 0.9882 - val_loss: 0.1323 - val_accuracy: 0.9515\n",
      "Epoch 24/25\n",
      "37500/37500 [==============================] - 5s 132us/step - loss: 0.0299 - accuracy: 0.9890 - val_loss: 0.1349 - val_accuracy: 0.9504\n",
      "Epoch 25/25\n",
      "37500/37500 [==============================] - 5s 132us/step - loss: 0.0278 - accuracy: 0.9897 - val_loss: 0.1355 - val_accuracy: 0.9504\n"
     ]
    }
   ],
   "source": [
    "model.compile(loss='binary_crossentropy', optimizer='adam', metrics=['accuracy'])\n",
    "\n",
    "#模型訓練, \"Train_History\" 把訓練過程所得到的數值存起來\n",
    "train_history=model.fit(x_img_train_normalize, y_label_train_OneHot,\n",
    "                        validation_split=0.25,\n",
    "                        epochs=25, batch_size=200, verbose=1)         \n",
    "\n",
    "#[validation_split = 0.2] validation_split：在0和1之間浮動。用作驗證數據的訓練數據的分數。\n",
    "#該模型將訓練數據的這一部分分開，不會對其進行訓練，並將在每個時期結束時評估該數據的損失和任何模型指標。\n",
    "#[batch_size]：整數或None。每個梯度更新的樣本數。指定，batch_size為128"
   ]
  },
  {
   "cell_type": "code",
   "execution_count": 29,
   "metadata": {
    "ExecuteTime": {
     "end_time": "2019-12-29T12:46:57.263290Z",
     "start_time": "2019-12-29T12:46:57.257344Z"
    }
   },
   "outputs": [],
   "source": [
    "import matplotlib.pyplot as plt\n",
    "%matplotlib inline\n",
    "\n",
    "#定義一個繪圖函數\n",
    "def show_train_history(train_acc,test_acc):\n",
    "    plt.plot(train_history.history[train_acc])\n",
    "    plt.plot(train_history.history[test_acc])\n",
    "    plt.title('Train History')\n",
    "    plt.ylabel('Accuracy')\n",
    "    plt.xlabel('Epoch')\n",
    "    plt.legend(['train_acc', 'val_acc'], loc='upper left')\n",
    "    plt.show()"
   ]
  },
  {
   "cell_type": "code",
   "execution_count": 30,
   "metadata": {
    "ExecuteTime": {
     "end_time": "2019-12-29T12:46:58.075524Z",
     "start_time": "2019-12-29T12:46:57.952740Z"
    }
   },
   "outputs": [
    {
     "data": {
      "image/png": "[encoded data removed]",
      "text/plain": [
       "<Figure size 432x288 with 1 Axes>"
      ]
     },
     "metadata": {
      "needs_background": "light"
     },
     "output_type": "display_data"
    }
   ],
   "source": [
    "show_train_history('accuracy','val_accuracy')"
   ]
  },
  {
   "cell_type": "code",
   "execution_count": null,
   "metadata": {},
   "outputs": [],
   "source": []
  }
 ],
 "metadata": {
  "colab": {
   "name": "Day71-使用損失函數_HW.ipynb",
   "provenance": [],
   "version": "0.3.2"
  },
  "kernelspec": {
   "display_name": "Python 3",
   "language": "python",
   "name": "python3"
  },
  "language_info": {
   "codemirror_mode": {
    "name": "ipython",
    "version": 3
   },
   "file_extension": ".py",
   "mimetype": "text/x-python",
   "name": "python",
   "nbconvert_exporter": "python",
   "pygments_lexer": "ipython3",
   "version": "3.7.3"
  },
  "varInspector": {
   "cols": {
    "lenName": 16,
    "lenType": 16,
    "lenVar": 40
   },
   "kernels_config": {
    "python": {
     "delete_cmd_postfix": "",
     "delete_cmd_prefix": "del ",
     "library": "var_list.py",
     "varRefreshCmd": "print(var_dic_list())"
    },
    "r": {
     "delete_cmd_postfix": ") ",
     "delete_cmd_prefix": "rm(",
     "library": "var_list.r",
     "varRefreshCmd": "cat(var_dic_list()) "
    }
   },
   "types_to_exclude": [
    "module",
    "function",
    "builtin_function_or_method",
    "instance",
    "_Feature"
   ],
   "window_display": false
  }
 },
 "nbformat": 4,
 "nbformat_minor": 1
}
