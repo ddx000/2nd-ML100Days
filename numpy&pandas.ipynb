{
 "cells": [
  {
   "cell_type": "markdown",
   "metadata": {},
   "source": [
    "# Numpy"
   ]
  },
  {
   "cell_type": "code",
   "execution_count": null,
   "metadata": {},
   "outputs": [],
   "source": [
    "# 將0-10分成21等份\n",
    "np.linspace(0, 10, 21)\n",
    "# 隨機多維變量(正態分布 5*5)\n",
    "np.random.randn(5,5)\n",
    "# 隨機生成 1000 個介於 0~50 的數的整數 x, y\n",
    "np.random.randint(0, 50, 1000)\n",
    "# 分位數\n",
    "np.percentile('數組', q = 25)\n",
    "# 相關係數矩陣\n",
    "np.corrcoef(x, y)\n",
    "# log1p 和 expm1 互為逆運算\n",
    "# An array with natural logarithmic value of x + 1\n",
    "# 保證值很小時也不會出錯\n",
    "np.log1p()\n",
    "# 調整維度 -1就是自己伸展\n",
    "np.reshape()"
   ]
  },
  {
   "cell_type": "markdown",
   "metadata": {},
   "source": [
    "# Pandas"
   ]
  },
  {
   "cell_type": "code",
   "execution_count": null,
   "metadata": {},
   "outputs": [],
   "source": [
    "# 合併欄位，concat和merge很像，但是有細節差異\n",
    "pd.concat([df1, df2, df3])\n",
    "pd.merge()\n",
    "pd.melt()\n",
    "\n",
    "# 選取欄位\n",
    "df.select_dtypes(include=[\"object\"])\n",
    "# 計算有幾種\n",
    "df.apply(pd.Series.nunique, axis = 0)\n",
    "# 找重複最多的\n",
    "df.value_counts().sort_index(ascending = False)\n",
    "# Outlier取代\n",
    "df['cols'].replace({365243: np.nan}, inplace = True)\n",
    "# 相關矩陣\n",
    "sns.heatmap(df.corr())\n",
    "# 找獨特\n",
    "df['cols'].unique() #回傳 字串\n",
    "df.nunique() #return 有幾種不同的\n",
    "\n",
    "# 查看缺少值\n",
    "df.isnull().sum()\n",
    "\n",
    "# 補缺少值\n",
    "df.fillna(df.mean())"
   ]
  }
 ],
 "metadata": {
  "kernelspec": {
   "display_name": "Python 3",
   "language": "python",
   "name": "python3"
  },
  "language_info": {
   "codemirror_mode": {
    "name": "ipython",
    "version": 3
   },
   "file_extension": ".py",
   "mimetype": "text/x-python",
   "name": "python",
   "nbconvert_exporter": "python",
   "pygments_lexer": "ipython3",
   "version": "3.7.3"
  }
 },
 "nbformat": 4,
 "nbformat_minor": 4
}
